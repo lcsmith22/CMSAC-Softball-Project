{
 "cells": [
  {
   "cell_type": "markdown",
   "id": "ce77fee1",
   "metadata": {},
   "source": [
    "Average Number of Games/Opponents for College Softball Teams in 2024:"
   ]
  },
  {
   "cell_type": "code",
   "execution_count": 107,
   "id": "b13d9522",
   "metadata": {},
   "outputs": [
    {
     "name": "stdout",
     "output_type": "stream",
     "text": [
      "The average number of teams that a given college softball team (of the 296 possible teams) competed against in the 2024 regular season was: 24.945945945945947\n",
      "The average number of games played by a given college softball team in the 2024 regular season was: 48.8277027027027\n",
      "The average number of teams that a given college softball team (of the 296 possible teams) competed against in the 2024 regular season IN CONFERENCE PLAY was: 7.783783783783784\n",
      "The average number of games played by a given college softball team AGAINST CONFERENCE OPPONENTS in the 2024 regular season was: 24.631756756756758\n"
     ]
    }
   ],
   "source": [
    "import os\n",
    "import numpy as np\n",
    "import pandas as pd\n",
    "import scipy as sp\n",
    "from datetime import datetime\n",
    "\n",
    "gbgDF = pd.read_csv(os.getcwd() + \"\\\\Stat-Files\\\\SB_2024_DPGameByGame.csv\")\n",
    "gbgDF[\"Date\"] = pd.to_datetime(gbgDF[\"Date\"])\n",
    "gbgDF = gbgDF[gbgDF[\"Date\"] < datetime(2024, 5, 16)]\n",
    "gbgConfDF = gbgDF[gbgDF[\"TeamConference\"] == gbgDF[\"OppConference\"]]\n",
    "uniqueUIDs24 = gbgDF[\"TeamUID\"].unique()\n",
    "numOpps = 0\n",
    "numConfOpps = 0\n",
    "numGames = 0\n",
    "numConfGames = 0\n",
    "\n",
    "for uid in uniqueUIDs24:\n",
    "    numTeamGames = len(gbgDF[gbgDF[\"TeamUID\"] == uid])\n",
    "    numTeamOpps = len(gbgDF[gbgDF[\"TeamUID\"] == uid].loc[:, \"OppUID\"].unique())\n",
    "    numOpps += numTeamOpps\n",
    "    numGames += numTeamGames\n",
    "    numTeamConfGames = len(gbgConfDF[gbgConfDF[\"TeamUID\"] == uid])\n",
    "    numTeamConfOpps = len(gbgConfDF[gbgConfDF[\"TeamUID\"] == uid].loc[:, \"OppUID\"].unique())\n",
    "    numConfOpps += numTeamConfOpps\n",
    "    numConfGames += numTeamConfGames\n",
    "\n",
    "\n",
    "print(f\"The average number of teams that a given college softball team (of the {len(uniqueUIDs24)} possible teams) competed against in the 2024 regular season was: {numOpps/len(uniqueUIDs24)}\")\n",
    "print(f\"The average number of games played by a given college softball team in the 2024 regular season was: {numGames/len(uniqueUIDs24)}\")\n",
    "print(f\"The average number of teams that a given college softball team (of the {len(uniqueUIDs24)} possible teams) competed against in the 2024 regular season IN CONFERENCE PLAY was: {numConfOpps/len(uniqueUIDs24)}\")\n",
    "print(f\"The average number of games played by a given college softball team AGAINST CONFERENCE OPPONENTS in the 2024 regular season was: {numConfGames/len(uniqueUIDs24)}\")"
   ]
  },
  {
   "cell_type": "markdown",
   "id": "e459fc8d",
   "metadata": {},
   "source": [
    "Attempt to implement Penn & Donnelly Double Poisson model (did not converge)"
   ]
  },
  {
   "cell_type": "code",
   "execution_count": null,
   "id": "a0327796",
   "metadata": {},
   "outputs": [],
   "source": [
    "import os\n",
    "import numpy as np\n",
    "import pandas as pd\n",
    "import scipy as sp\n",
    "\n",
    "gbgDF = pd.read_csv(os.getcwd() + \"\\\\Stat-Files\\\\SB_2024_DPGameByGame.csv\")\n",
    "tcnDF = pd.read_csv(os.getcwd() + \"\\\\TCN-Files\\\\2024_TCN.csv\").rename(columns={\"Unnamed: 0\" : \"TeamNum\"})\n",
    "gbgDF = gbgDF.merge(tcnDF[[\"TeamNum\", \"UID\"]], left_on=\"TeamUID\", right_on=\"UID\")\n",
    "gbgDF = gbgDF.merge(tcnDF[[\"TeamNum\", \"UID\"]].rename(columns={\"TeamNum\" : \"OppNum\"}), left_on=\"OppUID\", right_on=\"UID\")\n",
    "\n",
    "# Construct empty matrices for games played and runs scored\n",
    "gamesM = np.zeros((len(tcnDF), len(tcnDF)))\n",
    "runsM = np.zeros((len(tcnDF), len(tcnDF)))\n",
    "\n",
    "# Construct empty vectors for total runs for (rsV) and runs against (raV)\n",
    "rfV = np.zeros(len(tcnDF))\n",
    "raV = np.zeros(len(tcnDF))\n",
    "\n",
    "# Iterate over gbgDF to fill in matrix\n",
    "for i in range(len(gbgDF)):\n",
    "    teamNum = gbgDF.loc[i, \"TeamNum\"]\n",
    "    oppNum = gbgDF.loc[i, \"OppNum\"]\n",
    "    teamRuns = gbgDF.loc[i, \"RunsFor\"]\n",
    "    oppRuns = gbgDF.loc[i, \"RunsAgainst\"]\n",
    "    \n",
    "    # Add 1 to each of the games played entries\n",
    "    # Because each game is \"in our dataset twice\", we only do this from one team's perspective\n",
    "    gamesM[teamNum, oppNum] = gamesM[teamNum, oppNum] + 1\n",
    "    \n",
    "    # Add to the runs for vector and runs part of matrix.\n",
    "    # Because each game is \"in our dataset twice\", we only do this from one team's perspective\n",
    "    rfV[teamNum] = rfV[teamNum] + teamRuns\n",
    "    raV[oppNum] = raV[oppNum] + teamRuns\n",
    "    runsM[teamNum, oppNum] = runsM[teamNum, oppNum] + teamRuns\n",
    "    \n",
    "# Build objective function:\n",
    "def Objective(OaDv):\n",
    "    # OaDv, for n teams, is a one-dimensional matrix of length 2n that that is [Oa; Dv]\n",
    "    blockDiag = sp.linalg.block_diag(gamesM, gamesM)\n",
    "    DvOa = np.concatenate((OaDv[(int(len(OaDv)/2)):], OaDv[:(int(len(OaDv)/2))]))\n",
    "    RfRa = np.concatenate((rfV, raV))\n",
    "    return np.abs(((blockDiag@OaDv)*(DvOa) - RfRa))\n",
    "\n",
    "valuesOaDv = np.concatenate((rfV/np.sum(rfV), raV/np.sum(raV)))\n",
    "numRuns = 0\n",
    "\n",
    "while np.sum(Objective(valuesOaDv)*Objective(valuesOaDv)) > 0.01 or numRuns > 25:\n",
    "    valuesOaDv = sp.optimize.fsolve(Objective, valuesOaDv)\n",
    "    print(sum(Objective(valuesOaDv)*Objective(valuesOaDv)))\n",
    "    numRuns += 1"
   ]
  }
 ],
 "metadata": {
  "kernelspec": {
   "display_name": "Python 3 (ipykernel)",
   "language": "python",
   "name": "python3"
  },
  "language_info": {
   "codemirror_mode": {
    "name": "ipython",
    "version": 3
   },
   "file_extension": ".py",
   "mimetype": "text/x-python",
   "name": "python",
   "nbconvert_exporter": "python",
   "pygments_lexer": "ipython3",
   "version": "3.9.13"
  }
 },
 "nbformat": 4,
 "nbformat_minor": 5
}
